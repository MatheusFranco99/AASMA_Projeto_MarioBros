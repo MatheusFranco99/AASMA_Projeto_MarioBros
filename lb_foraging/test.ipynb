{
 "cells": [
  {
   "cell_type": "code",
   "execution_count": 3,
   "metadata": {},
   "outputs": [
    {
     "name": "stderr",
     "output_type": "stream",
     "text": [
      "/Library/Frameworks/Python.framework/Versions/3.9/lib/python3.9/site-packages/gym/utils/passive_env_checker.py:97: UserWarning: \u001b[33mWARN: We recommend you to use a symmetric and normalized Box action space (range=[-1, 1]) https://stable-baselines3.readthedocs.io/en/master/guide/rl_tips.html\u001b[0m\n",
      "  logger.warn(\n"
     ]
    },
    {
     "data": {
      "text/plain": [
       "Box(-1.0, 1.0, (4,), float32)"
      ]
     },
     "execution_count": 3,
     "metadata": {},
     "output_type": "execute_result"
    }
   ],
   "source": [
    "import gym\n",
    "\n",
    "env = gym.make(\"BipedalWalker-v3\")\n",
    "\n",
    "env.action_space\n"
   ]
  },
  {
   "cell_type": "code",
   "execution_count": 1,
   "metadata": {},
   "outputs": [
    {
     "name": "stderr",
     "output_type": "stream",
     "text": [
      "/Library/Frameworks/Python.framework/Versions/3.9/lib/python3.9/site-packages/gym/envs/registration.py:423: UserWarning: \u001b[33mWARN: Custom namespace `ALE` is being overridden by namespace `ALE`. If you are developing a plugin you shouldn't specify a namespace in `register` calls. The namespace is specified through the entry point package metadata.\u001b[0m\n",
      "  logger.warn(\n"
     ]
    }
   ],
   "source": [
    "import lbforaging"
   ]
  },
  {
   "cell_type": "code",
   "execution_count": 1,
   "metadata": {},
   "outputs": [],
   "source": [
    "from collections import deque\n",
    "import random\n",
    "\n",
    "class ReplayBuffer:\n",
    "    def __init__(self, batch_size=32, size=1000000):\n",
    "        '''\n",
    "        batch_size (int): number of data points per batch\n",
    "        size (int): size of replay buffer.\n",
    "        '''\n",
    "        self.batch_size = batch_size\n",
    "        self.memory = deque(maxlen=size)\n",
    "\n",
    "    def remember(self, s_t, a_t, r_t, s_t_next, d_t):\n",
    "        '''\n",
    "        s_t (np.ndarray double): state\n",
    "        a_t (np.ndarray int): action\n",
    "        r_t (np.ndarray double): reward\n",
    "        d_t (np.ndarray float): done flag\n",
    "        s_t_next (np.ndarray double): next state\n",
    "        '''\n",
    "        self.memory.append((s_t, a_t, r_t, s_t_next, d_t))\n",
    "\n",
    "    def sample(self):\n",
    "        '''\n",
    "        random sampling of data from buffer\n",
    "        '''\n",
    "        # if we don't have enough samples yet\n",
    "        size = min(self.batch_size, len(self.memory))\n",
    "        return random.sample(self.memory, size)"
   ]
  },
  {
   "cell_type": "code",
   "execution_count": 4,
   "metadata": {},
   "outputs": [],
   "source": [
    "import copy\n",
    "\n",
    "class VectorizedEnvWrapper(gym.Wrapper):\n",
    "    def __init__(self, env, num_envs=1):\n",
    "        '''\n",
    "        env (gym.Env): to make copies of\n",
    "        num_envs (int): number of copies\n",
    "        '''\n",
    "        super().__init__(env)\n",
    "        self.num_envs = num_envs\n",
    "        self.envs = [copy.deepcopy(env) for n in range(num_envs)]\n",
    "\n",
    "    def reset(self):\n",
    "        '''\n",
    "        Return and reset each environment\n",
    "        '''\n",
    "        return np.asarray([env.reset() for env in self.envs])\n",
    "\n",
    "    def step(self, actions):\n",
    "        '''\n",
    "        Take a step in the environment and return the result.\n",
    "        actions (np.ndarray int)\n",
    "        '''\n",
    "        next_states, rewards, dones = [], [], []\n",
    "        for env, action in zip(self.envs, actions):\n",
    "            next_state, reward, done, _ = env.step(action)\n",
    "            if done:\n",
    "                next_states.append(env.reset())\n",
    "            else:\n",
    "                next_states.append(next_state)\n",
    "            rewards.append(reward)\n",
    "            dones.append(done)\n",
    "        return np.asarray(next_states), np.asarray(rewards), \\\n",
    "            np.asarray(dones)"
   ]
  },
  {
   "cell_type": "code",
   "execution_count": 5,
   "metadata": {},
   "outputs": [],
   "source": [
    "import torch\n",
    "import numpy as np"
   ]
  },
  {
   "cell_type": "code",
   "execution_count": 6,
   "metadata": {},
   "outputs": [],
   "source": [
    "class DeepQLearner:\n",
    "    def __init__(self, env,\n",
    "                 alpha=0.001, gamma=0.95,\n",
    "                 epsilon_i=1.0, epsilon_f=0.00, n_epsilon=0.1):\n",
    "        '''\n",
    "        env (VectorizedEnvWrapper): the vectorized gym.Env\n",
    "        alpha (float): learning rate\n",
    "        gamma (float): discount factor\n",
    "        epsilon_i (float): initial value for epsilon\n",
    "        epsilon_f (float): final value for epsilon\n",
    "        n_epsilon (float): proportion of timesteps over which to\n",
    "                           decay epsilon from epsilon_i to\n",
    "                           epsilon_f\n",
    "        '''\n",
    "\n",
    "        self.num_envs = env.num_envs\n",
    "        self.M = env.action_space.n  # number of actions\n",
    "        self.N = env.observation_space.shape[0] # dimensionality of state space\n",
    "\n",
    "        self.epsilon_i = epsilon_i\n",
    "        self.epsilon_f = epsilon_f\n",
    "        self.n_epsilon = n_epsilon\n",
    "        self.epsilon = epsilon_i\n",
    "        self.gamma = gamma\n",
    "\n",
    "        self.Q = torch.nn.Sequential(\n",
    "            torch.nn.Linear(self.N, 24),\n",
    "            torch.nn.ReLU(),\n",
    "            torch.nn.Linear(24, 24),\n",
    "            torch.nn.ReLU(),\n",
    "            torch.nn.Linear(24, self.M)\n",
    "        ).double()\n",
    "\n",
    "        self.Q_ = copy.deepcopy(self.Q)\n",
    "\n",
    "        self.optimizer = torch.optim.Adam(self.Q.parameters(), lr=alpha)\n",
    "\n",
    "    def synchronize(self):\n",
    "        '''\n",
    "        Used to make the parameters of Q_ match with Q.\n",
    "        '''\n",
    "        self.Q_.load_state_dict(self.Q.state_dict())\n",
    "\n",
    "    def act(self, s_t):\n",
    "        '''\n",
    "        Epsilon-greedy policy.\n",
    "        s_t (np.ndarray): the current state.\n",
    "        '''\n",
    "        s_t = torch.as_tensor(s_t).double()\n",
    "        if np.random.rand() < self.epsilon:\n",
    "            return np.random.randint(self.M, size=self.num_envs)\n",
    "        else:\n",
    "            with torch.no_grad():\n",
    "                return np.argmax(self.Q(s_t).numpy(), axis=1)\n",
    "\n",
    "    def decay_epsilon(self, n):\n",
    "        '''\n",
    "        Epsilon decay.\n",
    "        n (int): proportion of training complete\n",
    "        '''\n",
    "        self.epsilon = max(\n",
    "            self.epsilon_f,\n",
    "            self.epsilon_i - (n/self.n_epsilon)*(self.epsilon_i - self.epsilon_f))\n",
    "\n",
    "    def update(self, s_t, a_t, r_t, s_t_next, d_t):\n",
    "        '''\n",
    "        Learning step.\n",
    "        s_t (np.ndarray double): state\n",
    "        a_t (np.ndarray int): action\n",
    "        r_t (np.ndarray double): reward\n",
    "        d_t (np.ndarray float): done flag\n",
    "        s_t_next (np.ndarray double): next state\n",
    "        '''\n",
    "\n",
    "        # make sure everything is torch.Tensor and type-compatible with Q\n",
    "        s_t = torch.as_tensor(s_t).double()\n",
    "        a_t = torch.as_tensor(a_t).long()\n",
    "        r_t = torch.as_tensor(r_t).double()\n",
    "        s_t_next = torch.as_tensor(s_t_next).double()\n",
    "        d_t = torch.as_tensor(d_t).double()\n",
    "\n",
    "        # we don't want gradients when calculating the target y\n",
    "        with torch.no_grad():\n",
    "            # taking 0th element because torch.max returns both maximum\n",
    "            # and argmax\n",
    "            Q_next = torch.max(self.Q_(s_t_next), dim=1)[0]\n",
    "            target = r_t + (1-d_t)*self.gamma*Q_next\n",
    "\n",
    "        # use advanced indexing on the return to get the predicted\n",
    "        # Q values corresponding to the actions chosen in each environment.\n",
    "        Q_pred = self.Q(s_t)[range(self.num_envs), a_t]\n",
    "        loss = torch.mean((target - Q_pred)**2)\n",
    "\n",
    "        self.optimizer.zero_grad()\n",
    "        loss.backward()\n",
    "        self.optimizer.step()"
   ]
  },
  {
   "cell_type": "code",
   "execution_count": 7,
   "metadata": {},
   "outputs": [],
   "source": [
    "def train(env, agent, replay_buffer, T=20000, n_theta=100):\n",
    "    '''\n",
    "    env (VectorizedEnvWrapper): vectorized gym.Env\n",
    "    agent (DeepQLearner)\n",
    "    buffer (ReplayBuffer)\n",
    "    T (int): total number of training timesteps\n",
    "    batch_size: number of\n",
    "    '''\n",
    "\n",
    "    # for plotting\n",
    "    returns = []\n",
    "    episode_rewards = 0\n",
    "\n",
    "    s_t = env.reset()\n",
    "    for t in range(T):\n",
    "        # synchronize Q and Q_\n",
    "        if t%n_theta == 0:\n",
    "            agent.synchronize()\n",
    "\n",
    "        a_t = agent.act(s_t)\n",
    "        s_t_next, r_t, d_t = env.step(a_t)\n",
    "\n",
    "        # store data into replay buffer\n",
    "        replay_buffer.remember(s_t, a_t, r_t, s_t_next, d_t)\n",
    "        s_t = s_t_next\n",
    "\n",
    "        # learn by sampling from replay buffer\n",
    "        for batch in replay_buffer.sample():\n",
    "            agent.update(*batch)\n",
    "\n",
    "        # for plotting\n",
    "        episode_rewards += r_t\n",
    "        for i in range(env.num_envs):\n",
    "            if d_t[i]:\n",
    "                returns.append(episode_rewards[i])\n",
    "                episode_rewards[i] = 0\n",
    "\n",
    "        # epsilon decay\n",
    "        agent.decay_epsilon(t/T)\n",
    "\n",
    "    plot_returns(returns)\n",
    "    return agent"
   ]
  },
  {
   "cell_type": "code",
   "execution_count": 8,
   "metadata": {},
   "outputs": [],
   "source": [
    "import pandas as pd\n",
    "import seaborn as sns; sns.set()"
   ]
  },
  {
   "cell_type": "code",
   "execution_count": 9,
   "metadata": {},
   "outputs": [],
   "source": [
    "def plot_returns(returns, window=10):\n",
    "    '''\n",
    "    Returns (iterable): list of returns over time\n",
    "    window: window for rolling mean to smooth plotted curve\n",
    "    '''\n",
    "    sns.lineplot(\n",
    "        data=pd.DataFrame(returns).rolling(window=window).mean()[window-1::window]\n",
    "    )"
   ]
  },
  {
   "cell_type": "code",
   "execution_count": 10,
   "metadata": {},
   "outputs": [
    {
     "name": "stderr",
     "output_type": "stream",
     "text": [
      "/Library/Frameworks/Python.framework/Versions/3.9/lib/python3.9/site-packages/gym/utils/passive_env_checker.py:97: UserWarning: \u001b[33mWARN: We recommend you to use a symmetric and normalized Box action space (range=[-1, 1]) https://stable-baselines3.readthedocs.io/en/master/guide/rl_tips.html\u001b[0m\n",
      "  logger.warn(\n"
     ]
    },
    {
     "name": "stdout",
     "output_type": "stream",
     "text": [
      "CPU times: user 55 s, sys: 1.95 s, total: 57 s\n",
      "Wall time: 1min 16s\n"
     ]
    },
    {
     "data": {
      "image/png": "[encoded data removed]",
      "text/plain": [
       "<Figure size 432x288 with 1 Axes>"
      ]
     },
     "metadata": {},
     "output_type": "display_data"
    }
   ],
   "source": [
    "%%time\n",
    "\n",
    "env = VectorizedEnvWrapper(gym.make(\"CartPole-v1\"), num_envs=32)\n",
    "agent = DeepQLearner(env, alpha=1e-3, gamma=0.95)\n",
    "replay_buffer = ReplayBuffer(batch_size=1)\n",
    "agent = train(env, agent, replay_buffer, T=20000)"
   ]
  },
  {
   "cell_type": "code",
   "execution_count": 11,
   "metadata": {},
   "outputs": [],
   "source": [
    "def test(env, agent, T=20000):\n",
    "    '''\n",
    "    env (VectorizedEnvWrapper): vectorized gym.Env\n",
    "    agent (DeepQLearner)\n",
    "    buffer (ReplayBuffer)\n",
    "    T (int): total number of training timesteps\n",
    "    batch_size: number of\n",
    "    '''\n",
    "\n",
    "    # for plotting\n",
    "    returns = []\n",
    "    episode_rewards = 0\n",
    "\n",
    "    s_t = env.reset()\n",
    "    env.render()\n",
    "    for t in range(T):\n",
    "        a_t = agent.act(s_t)\n",
    "        s_t_next, r_t, d_t = env.step(a_t)\n",
    "        env.render()\n",
    "\n",
    "        episode_rewards += r_t"
   ]
  },
  {
   "cell_type": "code",
   "execution_count": 12,
   "metadata": {},
   "outputs": [],
   "source": [
    "test(env,agent)"
   ]
  }
 ],
 "metadata": {
  "interpreter": {
   "hash": "7812ea015bdcee6f23a998adcdd2ef97c151c0c241b7b7070987d9313e41299d"
  },
  "kernelspec": {
   "display_name": "Python 3.9.9 64-bit",
   "language": "python",
   "name": "python3"
  },
  "language_info": {
   "codemirror_mode": {
    "name": "ipython",
    "version": 3
   },
   "file_extension": ".py",
   "mimetype": "text/x-python",
   "name": "python",
   "nbconvert_exporter": "python",
   "pygments_lexer": "ipython3",
   "version": "3.9.9"
  },
  "orig_nbformat": 4
 },
 "nbformat": 4,
 "nbformat_minor": 2
}
