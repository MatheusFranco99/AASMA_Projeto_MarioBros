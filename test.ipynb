{
 "cells": [
  {
   "cell_type": "code",
   "execution_count": 17,
   "metadata": {},
   "outputs": [
    {
     "data": {
      "text/plain": [
       "<matplotlib.image.AxesImage at 0x7fd03edcef10>"
      ]
     },
     "execution_count": 17,
     "metadata": {},
     "output_type": "execute_result"
    },
    {
     "data": {
      "image/png": "[encoded data removed]",
      "text/plain": [
       "<Figure size 432x288 with 1 Axes>"
      ]
     },
     "metadata": {
      "needs_background": "light"
     },
     "output_type": "display_data"
    }
   ],
   "source": [
    "import supersuit as ss\n",
    "from stable_baselines3 import PPO, DQN\n",
    "# from stable_baselines3.deepq.policies import CnnPolicy\n",
    "import numpy as np\n",
    "\n",
    "from pettingzoo.atari import mario_bros_v3,space_invaders_v2\n",
    "import matplotlib.pyplot as plt\n",
    "\n",
    "env = space_invaders_v2.env()\n",
    "\n",
    "\n",
    "# env = ss.observation_lambda_v0(env, lambda obs,obs_space: obs[25:195,:,:], lambda obs_space:obs_space)\n",
    "# env = ss.color_reduction_v0(env, mode=\"B\")\n",
    "# env = ss.resize_v1(env, x_size=64, y_size=64)\n",
    "# # env = ss.frame_stack_v1(env, 4)\n",
    "# env.reset()\n",
    "# for i in range(1000):\n",
    "    # o,r,d,i = env.last()\n",
    "#     env.step(0)\n",
    "#     if(r != 0 or len(i) != 0):\n",
    "#         print(f\"{r=},{i=}\")\n",
    "#     env.render()\n",
    "\n",
    "env = mario_bros_v3.env()\n",
    "env = ss.observation_lambda_v0(env, lambda obs,obs_space: obs[25:195,:,:], lambda obs_space:obs_space)\n",
    "env = ss.color_reduction_v0(env, mode=\"B\")\n",
    "env = ss.resize_v1(env, x_size=64, y_size=64)\n",
    "# env = ss.action_lambda_v1(env,lambda action, act_space : actChange(action), lambda act_space : gym.spaces.Discrete(7))\n",
    "# env = ss.frame_stack_v1(env, 4)\n",
    "# env = ss.black_death_v3(env)\n",
    "# env = ss.pettingzoo_env_to_vec_env_v1(env)\n",
    "# env = ss.concat_vec_envs_v1(env, 2, num_cpus=1, base_class=\"stable_baselines3\")\n",
    "\n",
    "env.reset()\n",
    "env.step(0)\n",
    "o,r,d,i = env.last()\n",
    "\n",
    "plt.imshow(o)\n",
    "\n",
    "# env = ss.black_death_v3(env)\n",
    "# env = ss.pettingzoo_env_to_vec_env_v1(env)\n",
    "# env = ss.concat_vec_envs_v1(env, 2, num_cpus=1, base_class=\"stable_baselines3\")\n",
    "\n"
   ]
  }
 ],
 "metadata": {
  "interpreter": {
   "hash": "7812ea015bdcee6f23a998adcdd2ef97c151c0c241b7b7070987d9313e41299d"
  },
  "kernelspec": {
   "display_name": "Python 3.9.9 64-bit",
   "language": "python",
   "name": "python3"
  },
  "language_info": {
   "codemirror_mode": {
    "name": "ipython",
    "version": 3
   },
   "file_extension": ".py",
   "mimetype": "text/x-python",
   "name": "python",
   "nbconvert_exporter": "python",
   "pygments_lexer": "ipython3",
   "version": "3.9.9"
  },
  "orig_nbformat": 4
 },
 "nbformat": 4,
 "nbformat_minor": 2
}
