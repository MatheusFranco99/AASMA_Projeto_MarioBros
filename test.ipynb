{
 "cells": [
  {
   "cell_type": "code",
   "execution_count": 11,
   "metadata": {},
   "outputs": [
    {
     "name": "stderr",
     "output_type": "stream",
     "text": [
      "/Library/Frameworks/Python.framework/Versions/3.9/lib/python3.9/site-packages/gym/utils/seeding.py:183: DeprecationWarning: \u001b[33mWARN: Function `create_seed(a, max_bytes)` is marked as deprecated and will be removed in the future. \u001b[0m\n",
      "  deprecation(\n",
      "/Library/Frameworks/Python.framework/Versions/3.9/lib/python3.9/site-packages/gym/utils/seeding.py:203: DeprecationWarning: \u001b[33mWARN: Function `_bigint_from_bytes(bytes)` is marked as deprecated and will be removed in the future. \u001b[0m\n",
      "  deprecation(\n"
     ]
    },
    {
     "name": "stdout",
     "output_type": "stream",
     "text": [
      "['__class__', '__delattr__', '__dict__', '__dir__', '__doc__', '__eq__', '__format__', '__ge__', '__getattribute__', '__getstate__', '__gt__', '__hash__', '__init__', '__init_subclass__', '__le__', '__lt__', '__module__', '__ne__', '__new__', '__reduce__', '__reduce_ex__', '__repr__', '__setattr__', '__setstate__', '__sizeof__', '__str__', '__subclasshook__', '__weakref__', '_ezpickle_args', '_ezpickle_kwargs', '_observe', '_screen', 'action_mapping', 'action_space', 'action_spaces', 'agents', 'ale', 'clone_full_state', 'clone_state', 'close', 'full_action_space', 'max_cycles', 'max_num_agents', 'metadata', 'mode', 'num_agents', 'num_players', 'obs_type', 'observation_space', 'observation_spaces', 'possible_agents', 'render', 'reset', 'restore_full_state', 'restore_state', 'rom_path', 'seed', 'state', 'step', 'unwrapped']\n"
     ]
    },
    {
     "ename": "AttributeError",
     "evalue": "'ParallelAtariEnv' object has no attribute 'get_action_meanings'",
     "output_type": "error",
     "traceback": [
      "\u001b[0;31m---------------------------------------------------------------------------\u001b[0m",
      "\u001b[0;31mAttributeError\u001b[0m                            Traceback (most recent call last)",
      "\u001b[1;32m/Users/matheusfranco/Documents/Acadêmica/Computação/AASMA/AASMA_Projeto_MarioBros/test.ipynb Cell 1'\u001b[0m in \u001b[0;36m<module>\u001b[0;34m\u001b[0m\n\u001b[1;32m      <a href='vscode-notebook-cell:/Users/matheusfranco/Documents/Acade%CC%82mica/Computac%CC%A7a%CC%83o/AASMA/AASMA_Projeto_MarioBros/test.ipynb#ch0000000?line=8'>9</a>\u001b[0m env \u001b[39m=\u001b[39m mario_bros_v3\u001b[39m.\u001b[39menv()\n\u001b[1;32m     <a href='vscode-notebook-cell:/Users/matheusfranco/Documents/Acade%CC%82mica/Computac%CC%A7a%CC%83o/AASMA/AASMA_Projeto_MarioBros/test.ipynb#ch0000000?line=10'>11</a>\u001b[0m \u001b[39mprint\u001b[39m(\u001b[39mdir\u001b[39m(env\u001b[39m.\u001b[39munwrapped\u001b[39m.\u001b[39munwrapped))\n\u001b[0;32m---> <a href='vscode-notebook-cell:/Users/matheusfranco/Documents/Acade%CC%82mica/Computac%CC%A7a%CC%83o/AASMA/AASMA_Projeto_MarioBros/test.ipynb#ch0000000?line=11'>12</a>\u001b[0m \u001b[39mprint\u001b[39m(env\u001b[39m.\u001b[39;49munwrapped\u001b[39m.\u001b[39;49munwrapped\u001b[39m.\u001b[39;49mget_action_meanings())\n",
      "\u001b[0;31mAttributeError\u001b[0m: 'ParallelAtariEnv' object has no attribute 'get_action_meanings'"
     ]
    }
   ],
   "source": [
    "import supersuit as ss\n",
    "from stable_baselines3 import PPO, DQN\n",
    "# from stable_baselines3.deepq.policies import CnnPolicy\n",
    "\n",
    "\n",
    "from pettingzoo.atari import mario_bros_v3\n",
    "import matplotlib.pyplot as plt\n",
    "\n",
    "env = mario_bros_v3.env()\n",
    "\n",
    "print(dir(env.unwrapped.unwrapped))\n",
    "print(env.unwrapped.unwrapped)\n",
    "\n",
    "# env = ss.observation_lambda_v0(env, lambda obs,obs_space: obs[25:175,:,:], lambda obs_space:obs_space)\n",
    "# env = ss.color_reduction_v0(env, mode=\"B\")\n",
    "# env = ss.resize_v1(env, x_size=64, y_size=64)\n",
    "# env = ss.frame_stack_v1(env, 4)\n",
    "# env.reset()\n",
    "# for i in range(1000):\n",
    "#     o,r,d,i = env.last()\n",
    "#     env.step(0)\n",
    "#     if(r != 0 or len(i) != 0):\n",
    "#         print(f\"{r=},{i=}\")\n",
    "#     env.render()\n",
    "\n",
    "# plt.imshow(o)\n",
    "\n",
    "# env = ss.black_death_v3(env)\n",
    "# env = ss.pettingzoo_env_to_vec_env_v1(env)\n",
    "# env = ss.concat_vec_envs_v1(env, 2, num_cpus=1, base_class=\"stable_baselines3\")\n",
    "\n"
   ]
  }
 ],
 "metadata": {
  "interpreter": {
   "hash": "7812ea015bdcee6f23a998adcdd2ef97c151c0c241b7b7070987d9313e41299d"
  },
  "kernelspec": {
   "display_name": "Python 3.9.9 64-bit",
   "language": "python",
   "name": "python3"
  },
  "language_info": {
   "codemirror_mode": {
    "name": "ipython",
    "version": 3
   },
   "file_extension": ".py",
   "mimetype": "text/x-python",
   "name": "python",
   "nbconvert_exporter": "python",
   "pygments_lexer": "ipython3",
   "version": "3.9.9"
  },
  "orig_nbformat": 4
 },
 "nbformat": 4,
 "nbformat_minor": 2
}
