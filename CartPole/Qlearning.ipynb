{
 "cells": [
  {
   "cell_type": "code",
   "execution_count": 3,
   "metadata": {},
   "outputs": [],
   "source": [
    "from sklearn.preprocessing import KBinsDiscretizer\n",
    "import numpy as np\n",
    "import time, math, random\n",
    "from typing import Tuple\n",
    "\n",
    "import gym"
   ]
  },
  {
   "cell_type": "code",
   "execution_count": 4,
   "metadata": {},
   "outputs": [],
   "source": [
    "env = gym.make(\"CartPole-v1\")"
   ]
  },
  {
   "cell_type": "code",
   "execution_count": 4,
   "metadata": {},
   "outputs": [
    {
     "name": "stderr",
     "output_type": "stream",
     "text": [
      "/Library/Frameworks/Python.framework/Versions/3.9/lib/python3.9/site-packages/pygame/surfarray.py:53: DeprecationWarning: `np.float` is a deprecated alias for the builtin `float`. To silence this warning, use `float` by itself. Doing this will not modify any behavior and is safe. If you specifically wanted the numpy scalar type, use `np.float64` here.\n",
      "Deprecated in NumPy 1.20; for more details and guidance: https://numpy.org/devdocs/release/1.20.0-notes.html#deprecations\n",
      "  if hasattr(numpy, type_name):\n",
      "2022-06-16 00:21:58.514 Python[5098:6729787] ApplePersistenceIgnoreState: Existing state will not be touched. New state will be written to /var/folders/w6/0d0dzq4d3t9g78b6qc727s4w0000gn/T/org.python.python.savedState\n",
      "/Library/Frameworks/Python.framework/Versions/3.9/lib/python3.9/site-packages/gym/envs/classic_control/cartpole.py:168: UserWarning: \u001b[33mWARN: You are calling 'step()' even though this environment has already returned done = True. You should always call 'reset()' once you receive 'done = True' -- any further steps are undefined behavior.\u001b[0m\n",
      "  logger.warn(\n"
     ]
    }
   ],
   "source": [
    "policy = lambda x: 1\n",
    "for _ in range(3):\n",
    "    obs = env.reset()\n",
    "    for _ in range(80):\n",
    "        action = policy(obs)\n",
    "        obs, reward, done, info = env.step(action)\n",
    "        env.render()\n",
    "        time.sleep(0.05)\n",
    "#env.close()"
   ]
  },
  {
   "cell_type": "code",
   "execution_count": 8,
   "metadata": {},
   "outputs": [],
   "source": [
    "policy = lambda obs : int(obs[3] > 0)"
   ]
  },
  {
   "cell_type": "code",
   "execution_count": 14,
   "metadata": {},
   "outputs": [],
   "source": [
    "n_bins = (6,4)\n",
    "\n",
    "lower_bounds = [env.observation_space.low[2], -math.radians(50)]\n",
    "upper_bounds = [env.observation_space.high[2], math.radians(50)]\n",
    "\n",
    "def discretizer( _, __, angle, pole_velocity) -> Tuple[int, ...]:\n",
    "    est = KBinsDiscretizer(n_bins = n_bins, encode = 'ordinal', strategy = 'uniform')\n",
    "    est.fit([lower_bounds,upper_bounds])\n",
    "    return tuple(map(int,est.transform([[angle,pole_velocity]])[0]))"
   ]
  },
  {
   "cell_type": "code",
   "execution_count": 6,
   "metadata": {},
   "outputs": [
    {
     "data": {
      "text/plain": [
       "(6, 12, 2)"
      ]
     },
     "execution_count": 6,
     "metadata": {},
     "output_type": "execute_result"
    }
   ],
   "source": [
    "Q_table = np.zeros(n_bins + (env.action_space.n,))\n",
    "Q_table.shape"
   ]
  },
  {
   "cell_type": "code",
   "execution_count": 9,
   "metadata": {},
   "outputs": [],
   "source": [
    "def policy(state : tuple):\n",
    "    return np.argmax(Q_table[state])"
   ]
  },
  {
   "cell_type": "code",
   "execution_count": 10,
   "metadata": {},
   "outputs": [],
   "source": [
    "def new_Q_value( reward: float, new_state : tuple, discount_factor=1) -> float:\n",
    "    future_optimal_value = np.max(Q_table[new_state])\n",
    "    learned_value = reward + discount_factor * future_optimal_value\n",
    "    return learned_value"
   ]
  },
  {
   "cell_type": "code",
   "execution_count": 11,
   "metadata": {},
   "outputs": [],
   "source": [
    "def learning_rate(n : int, min_rate=0.01) -> float:\n",
    "    return max(min_rate, min(1.0,1.0-math.log10((n+1)/25)))"
   ]
  },
  {
   "cell_type": "code",
   "execution_count": 12,
   "metadata": {},
   "outputs": [],
   "source": [
    "def exploration_rate(n: int, min_rate = 0.1) -> float:\n",
    "    return max(min_rate, min(1, 1.0 - math.log10(n+1)/25))"
   ]
  },
  {
   "cell_type": "code",
   "execution_count": 16,
   "metadata": {},
   "outputs": [
    {
     "name": "stdout",
     "output_type": "stream",
     "text": [
      "Episode 0, rewards []\n"
     ]
    }
   ],
   "source": [
    "n_episodes = 1000\n",
    "scores = []\n",
    "for e in range(n_episodes):\n",
    "    current_state, done = discretizer(*env.reset()), False\n",
    "\n",
    "    total_reward = 0\n",
    "\n",
    "    while not done:\n",
    "        action = policy(current_state)\n",
    "\n",
    "        if np.random.random() < exploration_rate(e):\n",
    "            action = env.action_space.sample()\n",
    "        \n",
    "        obs, reward, done, _ = env.step(action)\n",
    "        total_reward += reward\n",
    "        if(done):\n",
    "            reward = -100\n",
    "        new_state = discretizer(*obs)\n",
    "\n",
    "        lr = learning_rate(e)\n",
    "        learnt_value = new_Q_value(reward,new_state)\n",
    "        old_value = Q_table[current_state][action]\n",
    "        Q_table[current_state][action] = (1-lr)*old_value + lr * learnt_value\n",
    "    \n",
    "    scores += [total_reward]\n",
    "\n",
    "    if e % 1000 == 0:\n",
    "        print(f\"Episode {e}, rewards {scores[e-10:e-1]}\")"
   ]
  },
  {
   "cell_type": "code",
   "execution_count": 17,
   "metadata": {},
   "outputs": [
    {
     "name": "stderr",
     "output_type": "stream",
     "text": [
      "2022-06-16 02:57:42.287 Python[7670:6783978] ApplePersistenceIgnoreState: Existing state will not be touched. New state will be written to /var/folders/w6/0d0dzq4d3t9g78b6qc727s4w0000gn/T/org.python.python.savedState\n"
     ]
    },
    {
     "name": "stdout",
     "output_type": "stream",
     "text": [
      "10.0\n"
     ]
    },
    {
     "ename": "",
     "evalue": "",
     "output_type": "error",
     "traceback": [
      "\u001b[1;31mThe Kernel crashed while executing code in the the current cell or a previous cell. Please review the code in the cell(s) to identify a possible cause of the failure. Click <a href='https://aka.ms/vscodeJupyterKernelCrash'>here</a> for more info. View Jupyter <a href='command:jupyter.viewOutput'>log</a> for further details."
     ]
    }
   ],
   "source": [
    "total_reward = 0\n",
    "\n",
    "current_state, done = discretizer(*env.reset()), False\n",
    "while not done:\n",
    "    action = policy(current_state)\n",
    "\n",
    "    # if np.random.random() < exploration_rate(e):\n",
    "    #     action = env.action_space.sample()\n",
    "    \n",
    "    obs, reward, done, _ = env.step(action)\n",
    "    total_reward += reward\n",
    "    # new_state = discretizer(*obs)\n",
    "    env.render()\n",
    "\n",
    "    # lr = learning_rate(e)\n",
    "    # learnt_value = new_Q_value(reward,new_state)\n",
    "    # old_value = Q_table[current_state][action]\n",
    "    # Q_table[current_state][action] = (1-lr)*old_value + lr * learnt_value\n",
    "print(total_reward)"
   ]
  }
 ],
 "metadata": {
  "interpreter": {
   "hash": "7812ea015bdcee6f23a998adcdd2ef97c151c0c241b7b7070987d9313e41299d"
  },
  "kernelspec": {
   "display_name": "Python 3.9.9 64-bit",
   "language": "python",
   "name": "python3"
  },
  "language_info": {
   "codemirror_mode": {
    "name": "ipython",
    "version": 3
   },
   "file_extension": ".py",
   "mimetype": "text/x-python",
   "name": "python",
   "nbconvert_exporter": "python",
   "pygments_lexer": "ipython3",
   "version": "3.9.9"
  },
  "orig_nbformat": 4
 },
 "nbformat": 4,
 "nbformat_minor": 2
}
